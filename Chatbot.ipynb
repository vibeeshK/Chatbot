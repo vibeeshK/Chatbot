{
 "cells": [
  {
   "cell_type": "code",
   "execution_count": 1,
   "id": "3e276b3d",
   "metadata": {},
   "outputs": [],
   "source": [
    "import nltk\n",
    "import io\n",
    "import numpy as np\n",
    "import random\n",
    "import string\n",
    "import warnings\n",
    "warnings.filterwarnings('ignore')\n",
    "\n"
   ]
  },
  {
   "cell_type": "code",
   "execution_count": 2,
   "id": "a2efb979",
   "metadata": {},
   "outputs": [
    {
     "name": "stderr",
     "output_type": "stream",
     "text": [
      "[nltk_data] Downloading package punkt to\n",
      "[nltk_data]     C:\\Users\\vibee\\AppData\\Roaming\\nltk_data...\n",
      "[nltk_data]   Package punkt is already up-to-date!\n",
      "[nltk_data] Downloading package wordnet to\n",
      "[nltk_data]     C:\\Users\\vibee\\AppData\\Roaming\\nltk_data...\n",
      "[nltk_data]   Package wordnet is already up-to-date!\n"
     ]
    }
   ],
   "source": [
    "f=open('globalwarming.txt','r',errors='ignore')\n",
    "raw= f.read()\n",
    "raw=raw.lower()\n",
    "nltk.download('punkt')\n",
    "nltk.download('wordnet')\n",
    "sent_tokens=nltk.sent_tokenize(raw)\n",
    "word_tokens=nltk.word_tokenize(raw)\n",
    "sent_tokens[:2]\n",
    "word_tokens[:2]\n",
    "lemmer= nltk.stem.WordNetLemmatizer()"
   ]
  },
  {
   "cell_type": "code",
   "execution_count": 3,
   "id": "8c568f55",
   "metadata": {},
   "outputs": [],
   "source": [
    "def LemTokens(tokens):\n",
    "    return[lemmer.lemmatize(token) for token in tokens]\n",
    "remove_punct_dict= dict((ord(punct),None) for punct in string.punctuation)\n",
    "def LemNormalize(text):\n",
    "    return LemTokens(nltk.word_tokenize(text.lower().translate(remove_punct_dict)))\n",
    "\n",
    "\n",
    "GREETING_INPUTS = ('hello','hi','greeting','sup','what is up', 'hey')\n",
    "GREETING_RESPONSES= ['hi','hey','nods','hi there','hello','I am glad that you are talking to me']\n",
    "def greeting(sentence):\n",
    "    for word in sentence.split():\n",
    "        if word.lower() in GREETING_INPUTS:\n",
    "            return random.choice(GREETING_RESPONSES)\n"
   ]
  },
  {
   "cell_type": "code",
   "execution_count": 4,
   "id": "f4ff1bad",
   "metadata": {},
   "outputs": [],
   "source": [
    "from sklearn.feature_extraction.text import TfidfVectorizer\n",
    "from sklearn.metrics.pairwise import cosine_similarity\n",
    "def response (user_response):\n",
    "    chatbot_response=''\n",
    "    sent_tokens.append(user_response)\n",
    "    TfidfVec= TfidfVectorizer(tokenizer=LemNormalize,stop_words='english')\n",
    "    tfidf = TfidfVec.fit_transform(sent_tokens)\n",
    "    vals=cosine_similarity(tfidf[-1],tfidf)\n",
    "    idx=vals.argsort()[0][-2]\n",
    "    flat= vals.flatten()\n",
    "    flat.sort()\n",
    "    req_tfidf= flat[-2]\n",
    "    if (req_tfidf==0):\n",
    "        chatbot_response=chatbot_response+'I am sorry. I do not understand you'\n",
    "        return chatbot_response\n",
    "    else:\n",
    "        chatbot_response= chatbot_response+sent_tokens[idx]\n",
    "        return chatbot_response\n"
   ]
  },
  {
   "cell_type": "code",
   "execution_count": null,
   "id": "b9bad090",
   "metadata": {},
   "outputs": [
    {
     "name": "stdout",
     "output_type": "stream",
     "text": [
      "Chatbot: My name is Vibeesh. I will answer your questions about global warming. If you wanna exit, type bye\n",
      "Hi \n",
      "Chatbot:hello\n",
      "What is global warming\n",
      "Chatbot:global warming refers to global averages, with the amount of warming varying by region.\n"
     ]
    }
   ],
   "source": [
    "flag = True\n",
    "print('Chatbot: My name is Vibeesh. I will answer your questions about global warming. If you wanna exit, type bye')\n",
    "while(flag==True):\n",
    "    user_response= input()\n",
    "    user_response=user_response.lower()\n",
    "    if(user_response!='bye'):\n",
    "        if (user_response=='thanks' or user_response=='thank you'):\n",
    "            flag= False\n",
    "            print('Chatbot:You are welcome..')\n",
    "        else:\n",
    "            if(greeting(user_response)!=None):\n",
    "                print('Chatbot:'+greeting(user_response))\n",
    "            else:\n",
    "                print('Chatbot:', end='')\n",
    "                print(response(user_response))\n",
    "                sent_tokens.remove(user_response)                \n",
    "    else:\n",
    "        flag= False\n",
    "        print(\"Chatbot: Bye! Take care.\")\n"
   ]
  },
  {
   "cell_type": "code",
   "execution_count": null,
   "id": "a427c4d9",
   "metadata": {},
   "outputs": [],
   "source": []
  }
 ],
 "metadata": {
  "kernelspec": {
   "display_name": "Python 3",
   "language": "python",
   "name": "python3"
  },
  "language_info": {
   "codemirror_mode": {
    "name": "ipython",
    "version": 3
   },
   "file_extension": ".py",
   "mimetype": "text/x-python",
   "name": "python",
   "nbconvert_exporter": "python",
   "pygments_lexer": "ipython3",
   "version": "3.8.8"
  }
 },
 "nbformat": 4,
 "nbformat_minor": 5
}
